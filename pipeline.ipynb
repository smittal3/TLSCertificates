{
 "cells": [
  {
   "attachments": {},
   "cell_type": "markdown",
   "metadata": {},
   "source": [
    "1. Pull domain list from Cisco Umbrella and Majestic Million\n",
    "2. For each dataset, check if different from previous day\n",
    "3. Do domain resolution on both lists\n",
    "4. Run zmap on both reduced lists\n",
    "5. Run zgrab on both ip lists and store certs\n",
    "\n",
    "\n",
    "\n",
    "File structure: \n",
    "- Data\n",
    "  - logs\n",
    "  - Umbrella\n",
    "    - top1m\n",
    "    - DNS\n",
    "    - zmap\n",
    "    - zgrab\n",
    "  - Majestic\n",
    "    - top1m\n",
    "    - DNS\n",
    "    - zmap\n",
    "    - zgrab\n",
    "    - logs\n",
    "  - Scripts"
   ]
  },
  {
   "cell_type": "markdown",
   "metadata": {},
   "source": []
  }
 ],
 "metadata": {
  "kernelspec": {
   "display_name": "cmsc320",
   "language": "python",
   "name": "python3"
  },
  "language_info": {
   "codemirror_mode": {
    "name": "ipython",
    "version": 3
   },
   "file_extension": ".py",
   "mimetype": "text/x-python",
   "name": "python",
   "nbconvert_exporter": "python",
   "pygments_lexer": "ipython3",
   "version": "3.8.12 (default, Oct 12 2021, 06:23:56) \n[Clang 10.0.0 ]"
  },
  "orig_nbformat": 4,
  "vscode": {
   "interpreter": {
    "hash": "a56846b6ef5f8a7484e94576e72bdebbb2f804a7932edcf62ab15c04e741e6cc"
   }
  }
 },
 "nbformat": 4,
 "nbformat_minor": 2
}
